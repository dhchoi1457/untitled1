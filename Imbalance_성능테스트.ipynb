{
  "nbformat": 4,
  "nbformat_minor": 0,
  "metadata": {
    "colab": {
      "name": "Imbalance_성능테스트.ipynb",
      "provenance": [],
      "collapsed_sections": [],
      "include_colab_link": true
    },
    "kernelspec": {
      "name": "python3",
      "display_name": "Python 3"
    },
    "accelerator": "GPU"
  },
  "cells": [
    {
      "cell_type": "markdown",
      "metadata": {
        "id": "view-in-github",
        "colab_type": "text"
      },
      "source": [
        "<a href=\"https://colab.research.google.com/github/dhchoi1457/untitled1/blob/master/Imbalance_%EC%84%B1%EB%8A%A5%ED%85%8C%EC%8A%A4%ED%8A%B8.ipynb\" target=\"_parent\"><img src=\"https://colab.research.google.com/assets/colab-badge.svg\" alt=\"Open In Colab\"/></a>"
      ]
    },
    {
      "cell_type": "code",
      "metadata": {
        "id": "pOWT_gqrjPnR",
        "colab": {
          "base_uri": "https://localhost:8080/",
          "height": 127
        },
        "outputId": "3feb4bba-ab54-4f71-d0da-8c8bc4b2dae3"
      },
      "source": [
        "from google.colab import drive\n",
        "drive.mount('/content/drive')"
      ],
      "execution_count": null,
      "outputs": [
        {
          "output_type": "stream",
          "text": [
            "Go to this URL in a browser: https://accounts.google.com/o/oauth2/auth?client_id=947318989803-6bn6qk8qdgf4n4g3pfee6491hc0brc4i.apps.googleusercontent.com&redirect_uri=urn%3Aietf%3Awg%3Aoauth%3A2.0%3Aoob&scope=email%20https%3A%2F%2Fwww.googleapis.com%2Fauth%2Fdocs.test%20https%3A%2F%2Fwww.googleapis.com%2Fauth%2Fdrive%20https%3A%2F%2Fwww.googleapis.com%2Fauth%2Fdrive.photos.readonly%20https%3A%2F%2Fwww.googleapis.com%2Fauth%2Fpeopleapi.readonly&response_type=code\n",
            "\n",
            "Enter your authorization code:\n",
            "··········\n",
            "Mounted at /content/drive\n"
          ],
          "name": "stdout"
        }
      ]
    },
    {
      "cell_type": "code",
      "metadata": {
        "id": "hNiloqOKqAk6",
        "colab": {
          "base_uri": "https://localhost:8080/",
          "height": 35
        },
        "outputId": "9bb561d9-1ed5-4a41-e070-2cafb6b2d208"
      },
      "source": [
        "# 데이터 import 및 간단한 전처리\n",
        "\n",
        "# XGB , LR , SVM , DNN 모델 구조 확정\n",
        "\n",
        "# metric은 f1 score\n",
        "\n",
        "# imbalanced 개선 테스트 진행\n",
        "\n",
        "import os\n",
        "\n",
        "print (os.getcwd())\n",
        "\n",
        "default_path = \"/content/drive/My Drive/Colab Notebooks/data/\"\n",
        "\n",
        "train_path = default_path + \"/Data_set.csv\"\n",
        "#test, No label"
      ],
      "execution_count": null,
      "outputs": [
        {
          "output_type": "stream",
          "text": [
            "/content\n"
          ],
          "name": "stdout"
        }
      ]
    },
    {
      "cell_type": "code",
      "metadata": {
        "id": "_B1_79lKg3jy"
      },
      "source": [
        "import pandas as pd \n",
        "import matplotlib.pyplot as plt \n",
        "import numpy as np \n",
        "import xgboost as xgb\n",
        "from sklearn.metrics import confusion_matrix, roc_curve, roc_auc_score, f1_score, precision_recall_curve, precision_score\n",
        "import itertools\n",
        "\n",
        "from sklearn.metrics import recall_score\n",
        "from sklearn.metrics import classification_report\n",
        "from sklearn.metrics import auc, accuracy_score, mean_squared_error\n",
        "from sklearn.model_selection import cross_val_score, GridSearchCV, KFold, RandomizedSearchCV, train_test_split\n",
        "import xgboost as xgb"
      ],
      "execution_count": null,
      "outputs": []
    },
    {
      "cell_type": "code",
      "metadata": {
        "id": "4jrkHeEFfz6Q",
        "colab": {
          "base_uri": "https://localhost:8080/",
          "height": 35
        },
        "outputId": "145549fd-6533-4ab8-b40f-50b71ec3c1d1"
      },
      "source": [
        "#read the data\n",
        "df = pd.read_csv(train_path, encoding=\"cp949\")\n",
        "df.shape"
      ],
      "execution_count": null,
      "outputs": [
        {
          "output_type": "execute_result",
          "data": {
            "text/plain": [
              "(100233, 69)"
            ]
          },
          "metadata": {
            "tags": []
          },
          "execution_count": 13
        }
      ]
    },
    {
      "cell_type": "code",
      "metadata": {
        "id": "IKdiKb20DDc3"
      },
      "source": [
        "#범주형 확인 후 one-hot\n",
        "#df.dtypes[df.dtypes == 'object']\n",
        "\n",
        "#one-hot encoding & add to df\n",
        "tmp = \"OCCP_NAME_G\"\n",
        "df = pd.concat([df, pd.get_dummies(df[tmp],prefix=tmp)], axis=1);\n",
        "df = df.drop(tmp,1)\n",
        "\n",
        "tmp = \"MATE_OCCP_NAME_G\"\n",
        "df = pd.concat([df, pd.get_dummies(df[tmp],prefix=tmp)], axis=1);\n",
        "df = df.drop(tmp,1)\n",
        "\n",
        "tmp = \"LT1Y_PEOD_RATE\"\n",
        "df = pd.concat([df, pd.get_dummies(df[tmp],prefix=tmp)], axis=1);\n",
        "df = df.drop(tmp,1)\n",
        "\n",
        "tmp = \"AGE\"\n",
        "df = pd.concat([df, pd.get_dummies(df[tmp],prefix=tmp)], axis=1);\n",
        "df = df.drop(tmp,1)\n",
        "\n",
        "tmp = \"SEX\"\n",
        "df = pd.concat([df, pd.get_dummies(df[tmp],prefix=tmp)], axis=1);\n",
        "df = df.drop(tmp,1)\n",
        "\n",
        "tmp = \"TEL_MBSP_GRAD\"\n",
        "df = pd.concat([df, pd.get_dummies(df[tmp],prefix=tmp)], axis=1);\n",
        "df = df.drop(tmp,1)\n",
        "\n",
        "tmp = \"CBPT_MBSP_YN\"\n",
        "df = pd.concat([df, pd.get_dummies(df[tmp],prefix=tmp)], axis=1);\n",
        "df = df.drop(tmp,1)\n",
        "\n",
        "tmp = \"PAYM_METD\"\n",
        "df = pd.concat([df, pd.get_dummies(df[tmp],prefix=tmp)], axis=1);\n",
        "df = df.drop(tmp,1)\n",
        "\n",
        "tmp = \"LINE_STUS\"\n",
        "df = pd.concat([df, pd.get_dummies(df[tmp],prefix=tmp)], axis=1);\n",
        "df = df.drop(tmp,1)\n",
        "\n",
        "df.loc[df['LAST_CHLD_AGE'].isnull(), 'LAST_CHLD_AGE'] = 0\n",
        "df = df.drop('CUST_ID',1)"
      ],
      "execution_count": null,
      "outputs": []
    },
    {
      "cell_type": "code",
      "metadata": {
        "id": "1HPdkF3Bm268",
        "colab": {
          "base_uri": "https://localhost:8080/",
          "height": 53
        },
        "outputId": "fc831e36-eeb1-4b93-f1d7-1836b9b2b340"
      },
      "source": [
        "# feature , target split\n",
        "y = np.array(df.TARGET.tolist())     #classes: 1..fraud, 0..no fraud\n",
        "df = df.drop('TARGET', 1)\n",
        "X = np.array(df.as_matrix())   # features\n",
        "\n",
        "# train, val, test split\n",
        "X_train, X_tmp, y_train, y_tmp = train_test_split(X, y, test_size=0.2, train_size=0.8, random_state=42)\n",
        "X_val, X_test, y_val, y_test = train_test_split(X_tmp, y_tmp, test_size=0.5, train_size=0.5, random_state=42)"
      ],
      "execution_count": null,
      "outputs": [
        {
          "output_type": "stream",
          "text": [
            "/usr/local/lib/python3.6/dist-packages/ipykernel_launcher.py:3: FutureWarning: Method .as_matrix will be removed in a future version. Use .values instead.\n",
            "  This is separate from the ipykernel package so we can avoid doing imports until\n"
          ],
          "name": "stderr"
        }
      ]
    },
    {
      "cell_type": "code",
      "metadata": {
        "id": "F6vHUEd267Io"
      },
      "source": [
        "def plot_confusion_matrix(cm, classes,\n",
        "                          normalize=False,\n",
        "                          title='Confusion matrix',\n",
        "                          cmap=plt.cm.Blues):\n",
        "    \"\"\"\n",
        "    This function prints and plots the confusion matrix.\n",
        "    Normalization can be applied by setting `normalize=True`.\n",
        "    \"\"\"\n",
        "    plt.imshow(cm, interpolation='nearest', cmap=cmap)\n",
        "    plt.title(title)\n",
        "    plt.colorbar()\n",
        "    tick_marks = np.arange(len(classes))\n",
        "    plt.xticks(tick_marks, classes, rotation=45)\n",
        "    plt.yticks(tick_marks, classes)\n",
        "\n",
        "    if normalize:\n",
        "        cm = cm.astype('float') / cm.sum(axis=1)[:, np.newaxis]\n",
        "    thresh = cm.max() / 2.\n",
        "    for i, j in itertools.product(range(cm.shape[0]), range(cm.shape[1])):\n",
        "        plt.text(j, i, cm[i, j],\n",
        "                 horizontalalignment=\"center\",\n",
        "                 color=\"white\" if cm[i, j] > thresh else \"black\")\n",
        "\n",
        "    plt.tight_layout()\n",
        "    plt.ylabel('True label')\n",
        "    plt.xlabel('Predicted label')\n",
        "    plt.show()\n",
        "\n",
        "def show_data(y_test, y_pred):\n",
        "  print('Precision =     {:.3f}'.format(tp/(tp+fp)))"
      ],
      "execution_count": null,
      "outputs": []
    },
    {
      "cell_type": "code",
      "metadata": {
        "id": "zzquEL-6tr9m",
        "colab": {
          "base_uri": "https://localhost:8080/",
          "height": 71
        },
        "outputId": "5fe5d5c3-4d9d-4edb-dae9-78a9f9a4dc9d"
      },
      "source": [
        "print(X_train.shape)\n",
        "print(X_val.shape)\n",
        "print(X_test.shape)"
      ],
      "execution_count": null,
      "outputs": [
        {
          "output_type": "stream",
          "text": [
            "(80186, 128)\n",
            "(10023, 128)\n",
            "(10024, 128)\n"
          ],
          "name": "stdout"
        }
      ]
    },
    {
      "cell_type": "code",
      "metadata": {
        "id": "uwfZBjyfx3xf",
        "colab": {
          "base_uri": "https://localhost:8080/",
          "height": 143
        },
        "outputId": "b50d9b67-28e6-49ba-eb6d-c57d35626264"
      },
      "source": [
        "X_train"
      ],
      "execution_count": null,
      "outputs": [
        {
          "output_type": "execute_result",
          "data": {
            "text/plain": [
              "array([[1., 1., 2., ..., 0., 0., 1.],\n",
              "       [3., 1., 2., ..., 0., 0., 1.],\n",
              "       [0., 0., 1., ..., 0., 0., 1.],\n",
              "       ...,\n",
              "       [1., 2., 3., ..., 0., 0., 1.],\n",
              "       [1., 0., 0., ..., 0., 0., 1.],\n",
              "       [1., 0., 1., ..., 0., 0., 1.]])"
            ]
          },
          "metadata": {
            "tags": []
          },
          "execution_count": 11
        }
      ]
    },
    {
      "cell_type": "markdown",
      "metadata": {
        "id": "qlN0P4JPJMzU"
      },
      "source": [
        "\n",
        "## Base 모델 성능 평가"
      ]
    },
    {
      "cell_type": "markdown",
      "metadata": {
        "id": "Vrmrs-6-gEzQ"
      },
      "source": [
        "### LR"
      ]
    },
    {
      "cell_type": "code",
      "metadata": {
        "id": "2k87622Y7X1m",
        "colab": {
          "base_uri": "https://localhost:8080/",
          "height": 143
        },
        "outputId": "f404312d-c08b-4f47-f27f-43c58f4b8624"
      },
      "source": [
        "# model1 LR\n",
        "from sklearn.linear_model import LogisticRegression\n",
        "from sklearn.preprocessing import StandardScaler\n",
        "\n",
        "#scaler\n",
        "scaler = StandardScaler()\n",
        "scaler.fit(X_train)\n",
        "X_tr_scaled = scaler.transform(X_train)\n",
        "X_val_scaled = scaler.transform(X_val)\n",
        "X_test_scaled = scaler.transform(X_test)\n",
        "\n",
        "#lr = LogisticRegression()\n",
        "#cv_params = {'C': [0.01,0.1,1,10,100], 'penalty':['l1','l2']}    # parameters to be tries in the grid search\\\n",
        "#csv = GridSearchCV(LogisticRegression(), cv_params, scoring = 'f1', cv = 5)\n",
        "#csv.fit(X_tr_scaled, y_train)\n",
        "\n",
        "lr = LogisticRegression(C=10, random_state=42, penalty='l1')\n",
        "lr.fit(X_tr_scaled, y_train)"
      ],
      "execution_count": null,
      "outputs": [
        {
          "output_type": "stream",
          "text": [
            "/usr/local/lib/python3.6/dist-packages/sklearn/linear_model/logistic.py:432: FutureWarning: Default solver will be changed to 'lbfgs' in 0.22. Specify a solver to silence this warning.\n",
            "  FutureWarning)\n"
          ],
          "name": "stderr"
        },
        {
          "output_type": "execute_result",
          "data": {
            "text/plain": [
              "LogisticRegression(C=10, class_weight=None, dual=False, fit_intercept=True,\n",
              "                   intercept_scaling=1, l1_ratio=None, max_iter=100,\n",
              "                   multi_class='warn', n_jobs=None, penalty='l1',\n",
              "                   random_state=42, solver='warn', tol=0.0001, verbose=0,\n",
              "                   warm_start=False)"
            ]
          },
          "metadata": {
            "tags": []
          },
          "execution_count": 17
        }
      ]
    },
    {
      "cell_type": "code",
      "metadata": {
        "id": "OzkHzVddLniQ",
        "colab": {
          "base_uri": "https://localhost:8080/",
          "height": 35
        },
        "outputId": "3f5945d6-fbfc-416a-c7b4-f5cbe37c40c3"
      },
      "source": [
        "y_pred = lr.predict(X_val_scaled)\n",
        "y_pred"
      ],
      "execution_count": null,
      "outputs": [
        {
          "output_type": "execute_result",
          "data": {
            "text/plain": [
              "array([0, 0, 0, ..., 0, 0, 0])"
            ]
          },
          "metadata": {
            "tags": []
          },
          "execution_count": 18
        }
      ]
    },
    {
      "cell_type": "code",
      "metadata": {
        "id": "4HvSdmrlEaf5",
        "colab": {
          "base_uri": "https://localhost:8080/",
          "height": 679
        },
        "outputId": "53c51c17-16f7-4171-99fe-7dff1be0b5b5"
      },
      "source": [
        "\n",
        "#val 에서 th값 탐색\n",
        "now_model = lr\n",
        "\n",
        "#scores 값인지 잘 체크\n",
        "y_pred = now_model.predict_proba(X_val_scaled)[:,1]\n",
        "\n",
        "precision, recall, th = precision_recall_curve(y_val, y_pred)\n",
        "\n",
        "\n",
        "\n",
        "f1 = 2*precision*recall/(precision+recall)\n",
        "plt.plot(th, f1[1:], 'b', label='Precision-Recall curve')\n",
        "plt.title('th & f1')\n",
        "plt.xlabel('th')\n",
        "plt.ylabel('f1')\n",
        "plt.show()\n",
        "\n",
        "#fix threshold\n",
        "tmp = list(f1[1:])\n",
        "ind = tmp.index(max(tmp))\n",
        "thr_fixed = th[ind]\n",
        "print(\"Val result\")\n",
        "print(\"f1 :\",max(tmp), \"/ thr:\" ,thr_fixed)\n",
        "\n",
        "\n",
        "#test_predicton\n",
        "y_pred = now_model.predict_proba(X_test_scaled)[:,1]\n",
        "y_pred [y_pred > thr_fixed] = 1\n",
        "y_pred [y_pred <= thr_fixed] = 0\n",
        "\n",
        "cm = confusion_matrix(y_test, y_pred)\n",
        "\n",
        "plot_confusion_matrix(cm, ['0', '1'], )\n",
        "\n",
        "print('precision: {:2.3}'.format(precision_score(y_test, y_pred, average='binary')))\n",
        "print('recall: {:2.3}'.format(recall_score(y_test, y_pred, average='binary')))\n",
        "print('f1_score: {:2.3}'.format(f1_score(y_test, y_pred, average='binary')))\n"
      ],
      "execution_count": null,
      "outputs": [
        {
          "output_type": "display_data",
          "data": {
            "image/png": "[encoded data removed]",
            "text/plain": [
              "<Figure size 432x288 with 1 Axes>"
            ]
          },
          "metadata": {
            "tags": []
          }
        },
        {
          "output_type": "stream",
          "text": [
            "Val result\n",
            "f1 : 0.42388059701492536 / thr: 0.177662342752687\n"
          ],
          "name": "stdout"
        },
        {
          "output_type": "display_data",
          "data": {
            "image/png": "[encoded data removed]",
            "text/plain": [
              "<Figure size 432x288 with 2 Axes>"
            ]
          },
          "metadata": {
            "tags": []
          }
        },
        {
          "output_type": "stream",
          "text": [
            "precision: 0.391\n",
            "recall: 0.49\n",
            "f1_score: 0.435\n"
          ],
          "name": "stdout"
        }
      ]
    },
    {
      "cell_type": "markdown",
      "metadata": {
        "id": "9GP2PkWYf4wa"
      },
      "source": [
        "### SVM (not fitting)"
      ]
    },
    {
      "cell_type": "code",
      "metadata": {
        "id": "ID5XM352uQ4d"
      },
      "source": [
        "# model2 SVM\n",
        "\n",
        "# 마지막에 시도해보기\n",
        "\n",
        "from sklearn.model_selection import GridSearchCV\n",
        "from sklearn.pipeline import Pipeline\n",
        "from sklearn.preprocessing import StandardScaler\n",
        "from sklearn.svm import SVC\n",
        "\n",
        "pipe_svc = Pipeline([('clf', SVC(random_state=1))])\n",
        "\n",
        "#param_range = [ 0.01, 0.1, 1.0, 10.0]\n",
        "param_range = [1.0]\n",
        "\n",
        "param_grid = [\n",
        "    {'clf__C': param_range, 'clf__kernel': ['linear']},\n",
        "   ]\n",
        "\n",
        "\n",
        "#scaling\n",
        "#scaler\n",
        "scaler = StandardScaler()\n",
        "scaler.fit(X_train)\n",
        "X_tr_scaled = scaler.transform(X_train)\n",
        "\n",
        "csv3=GridSearchCV(estimator=pipe_svc, param_grid=param_grid,\n",
        "                  scoring='f1', cv=5)\n",
        "\n",
        "# 이거 다른 곳에서 실행코드 가지고 와서 실행해보기\n",
        "# https://tensorflow.blog/%ED%8C%8C%EC%9D%B4%EC%8D%AC-%EB%A8%B8%EC%8B%A0%EB%9F%AC%EB%8B%9D/2-3-7-%EC%BB%A4%EB%84%90-%EC%84%9C%ED%8F%AC%ED%8A%B8-%EB%B2%A1%ED%84%B0-%EB%A8%B8%EC%8B%A0/\n"
      ],
      "execution_count": null,
      "outputs": []
    },
    {
      "cell_type": "code",
      "metadata": {
        "id": "vrbL8iqs0rNO",
        "colab": {
          "base_uri": "https://localhost:8080/",
          "height": 233
        },
        "outputId": "1798b0bd-63db-4286-d441-58272f44f9fd"
      },
      "source": [
        "%time csv3 = csv3.fit(X_tr_scaled, y_train)"
      ],
      "execution_count": null,
      "outputs": [
        {
          "output_type": "stream",
          "text": [
            "/usr/local/lib/python3.6/dist-packages/sklearn/metrics/classification.py:1437: UndefinedMetricWarning: F-score is ill-defined and being set to 0.0 due to no predicted samples.\n",
            "  'precision', 'predicted', average, warn_for)\n",
            "/usr/local/lib/python3.6/dist-packages/sklearn/metrics/classification.py:1437: UndefinedMetricWarning: F-score is ill-defined and being set to 0.0 due to no predicted samples.\n",
            "  'precision', 'predicted', average, warn_for)\n",
            "/usr/local/lib/python3.6/dist-packages/sklearn/metrics/classification.py:1437: UndefinedMetricWarning: F-score is ill-defined and being set to 0.0 due to no predicted samples.\n",
            "  'precision', 'predicted', average, warn_for)\n",
            "/usr/local/lib/python3.6/dist-packages/sklearn/metrics/classification.py:1437: UndefinedMetricWarning: F-score is ill-defined and being set to 0.0 due to no predicted samples.\n",
            "  'precision', 'predicted', average, warn_for)\n",
            "/usr/local/lib/python3.6/dist-packages/sklearn/metrics/classification.py:1437: UndefinedMetricWarning: F-score is ill-defined and being set to 0.0 due to no predicted samples.\n",
            "  'precision', 'predicted', average, warn_for)\n"
          ],
          "name": "stderr"
        },
        {
          "output_type": "stream",
          "text": [
            "CPU times: user 3h 52min 51s, sys: 5.97 s, total: 3h 52min 57s\n",
            "Wall time: 3h 53min 17s\n"
          ],
          "name": "stdout"
        }
      ]
    },
    {
      "cell_type": "code",
      "metadata": {
        "id": "7IZlOnjLwSYX"
      },
      "source": [
        ""
      ],
      "execution_count": null,
      "outputs": []
    },
    {
      "cell_type": "code",
      "metadata": {
        "id": "v3MGDXeNweXk",
        "colab": {
          "base_uri": "https://localhost:8080/"
        },
        "outputId": "f0de4d55-6777-4d4f-e42e-c5d50fa30420"
      },
      "source": [
        "csv3.best_params_"
      ],
      "execution_count": null,
      "outputs": [
        {
          "output_type": "execute_result",
          "data": {
            "text/plain": [
              "{'clf__C': 1.0, 'clf__kernel': 'linear'}"
            ]
          },
          "metadata": {
            "tags": []
          },
          "execution_count": 12
        }
      ]
    },
    {
      "cell_type": "code",
      "metadata": {
        "id": "X0-ZHWPG9109"
      },
      "source": [
        "# SVM_2\n",
        "from sklearn.svm import SVC\n",
        "from sklearn.preprocessing import StandardScaler\n",
        "\n",
        "scaler = StandardScaler()\n",
        "scaler.fit(X_train)\n",
        "X_tr_scaled = scaler.transform(X_train)\n",
        "\n",
        "model2_svm = SVC(kernel='rbf', C=10, gamma=0.1).fit(X_tr_scaled, y_train)\n"
      ],
      "execution_count": null,
      "outputs": []
    },
    {
      "cell_type": "code",
      "metadata": {
        "id": "6ofPHnebtomH",
        "colab": {
          "base_uri": "https://localhost:8080/",
          "height": 188
        },
        "outputId": "ee51b9c7-70bb-453a-f131-6102b524a681"
      },
      "source": [
        "now_model = model2_svm\n",
        "y_pred = now_model.predict(X_val)\n"
      ],
      "execution_count": null,
      "outputs": [
        {
          "output_type": "error",
          "ename": "NameError",
          "evalue": "ignored",
          "traceback": [
            "\u001b[0;31m---------------------------------------------------------------------------\u001b[0m",
            "\u001b[0;31mNameError\u001b[0m                                 Traceback (most recent call last)",
            "\u001b[0;32m<ipython-input-3-63efe013c009>\u001b[0m in \u001b[0;36m<module>\u001b[0;34m()\u001b[0m\n\u001b[0;32m----> 1\u001b[0;31m \u001b[0mnow_model\u001b[0m \u001b[0;34m=\u001b[0m \u001b[0mmodel2_svm\u001b[0m\u001b[0;34m\u001b[0m\u001b[0;34m\u001b[0m\u001b[0m\n\u001b[0m\u001b[1;32m      2\u001b[0m \u001b[0my_pred\u001b[0m \u001b[0;34m=\u001b[0m \u001b[0mnow_model\u001b[0m\u001b[0;34m.\u001b[0m\u001b[0mpredict\u001b[0m\u001b[0;34m(\u001b[0m\u001b[0mX_val\u001b[0m\u001b[0;34m)\u001b[0m\u001b[0;34m\u001b[0m\u001b[0;34m\u001b[0m\u001b[0m\n",
            "\u001b[0;31mNameError\u001b[0m: name 'model2_svm' is not defined"
          ]
        }
      ]
    },
    {
      "cell_type": "code",
      "metadata": {
        "id": "WrHW5J5iAmpE",
        "colab": {
          "base_uri": "https://localhost:8080/",
          "height": 241
        },
        "outputId": "44d3e747-73e9-4942-edb7-a9c3e4ca6541"
      },
      "source": [
        "cm = confusion_matrix(y_val, y_pred)\n",
        "\n",
        "plot_confusion_matrix(cm, ['0', '1'], )\n",
        "\n",
        "print('precision: {:2.3}'.format(precision_score(y_val, y_pred, average='binary')))\n",
        "print('recall: {:2.3}'.format(recall_score(y_val, y_pred, average='binary')))\n",
        "print('f1_score: {:2.3}'.format(f1_score(y_val, y_pred, average='binary')))"
      ],
      "execution_count": null,
      "outputs": [
        {
          "output_type": "error",
          "ename": "NameError",
          "evalue": "ignored",
          "traceback": [
            "\u001b[0;31m---------------------------------------------------------------------------\u001b[0m",
            "\u001b[0;31mNameError\u001b[0m                                 Traceback (most recent call last)",
            "\u001b[0;32m<ipython-input-2-f806106d56f5>\u001b[0m in \u001b[0;36m<module>\u001b[0;34m()\u001b[0m\n\u001b[0;32m----> 1\u001b[0;31m \u001b[0mcm\u001b[0m \u001b[0;34m=\u001b[0m \u001b[0mconfusion_matrix\u001b[0m\u001b[0;34m(\u001b[0m\u001b[0my_val\u001b[0m\u001b[0;34m,\u001b[0m \u001b[0my_pred\u001b[0m\u001b[0;34m)\u001b[0m\u001b[0;34m\u001b[0m\u001b[0;34m\u001b[0m\u001b[0m\n\u001b[0m\u001b[1;32m      2\u001b[0m \u001b[0;34m\u001b[0m\u001b[0m\n\u001b[1;32m      3\u001b[0m \u001b[0mplot_confusion_matrix\u001b[0m\u001b[0;34m(\u001b[0m\u001b[0mcm\u001b[0m\u001b[0;34m,\u001b[0m \u001b[0;34m[\u001b[0m\u001b[0;34m'0'\u001b[0m\u001b[0;34m,\u001b[0m \u001b[0;34m'1'\u001b[0m\u001b[0;34m]\u001b[0m\u001b[0;34m,\u001b[0m \u001b[0;34m)\u001b[0m\u001b[0;34m\u001b[0m\u001b[0;34m\u001b[0m\u001b[0m\n\u001b[1;32m      4\u001b[0m \u001b[0;34m\u001b[0m\u001b[0m\n\u001b[1;32m      5\u001b[0m \u001b[0mprint\u001b[0m\u001b[0;34m(\u001b[0m\u001b[0;34m'precision: {:2.3}'\u001b[0m\u001b[0;34m.\u001b[0m\u001b[0mformat\u001b[0m\u001b[0;34m(\u001b[0m\u001b[0mprecision_score\u001b[0m\u001b[0;34m(\u001b[0m\u001b[0my_val\u001b[0m\u001b[0;34m,\u001b[0m \u001b[0my_pred\u001b[0m\u001b[0;34m,\u001b[0m \u001b[0maverage\u001b[0m\u001b[0;34m=\u001b[0m\u001b[0;34m'binary'\u001b[0m\u001b[0;34m)\u001b[0m\u001b[0;34m)\u001b[0m\u001b[0;34m)\u001b[0m\u001b[0;34m\u001b[0m\u001b[0;34m\u001b[0m\u001b[0m\n",
            "\u001b[0;31mNameError\u001b[0m: name 'confusion_matrix' is not defined"
          ]
        }
      ]
    },
    {
      "cell_type": "markdown",
      "metadata": {
        "id": "LG4DtCWKgAc7"
      },
      "source": [
        "### RF"
      ]
    },
    {
      "cell_type": "code",
      "metadata": {
        "id": "2g8lqoQFdlrJ",
        "colab": {
          "base_uri": "https://localhost:8080/",
          "height": 143
        },
        "outputId": "64276ef3-6271-4630-e752-09365b98e7a2"
      },
      "source": [
        "# model_3.1 RF\n",
        "# https://www.kaggle.com/andreanuzzo/balance-the-imbalanced-rf-and-xgboost-with-smote\n",
        "\n",
        "from sklearn.ensemble import RandomForestClassifier\n",
        "\n",
        "model3_rf = RandomForestClassifier(n_jobs=-1, random_state = 42,\n",
        "                             n_estimators=500, \n",
        "                             max_features='auto',\n",
        "                             min_samples_leaf=2,\n",
        "                             criterion = 'entropy')\n",
        "\n",
        "model3_rf.fit(X_train, y_train)\n"
      ],
      "execution_count": null,
      "outputs": [
        {
          "output_type": "execute_result",
          "data": {
            "text/plain": [
              "RandomForestClassifier(bootstrap=True, class_weight=None, criterion='entropy',\n",
              "                       max_depth=None, max_features='auto', max_leaf_nodes=None,\n",
              "                       min_impurity_decrease=0.0, min_impurity_split=None,\n",
              "                       min_samples_leaf=2, min_samples_split=2,\n",
              "                       min_weight_fraction_leaf=0.0, n_estimators=500,\n",
              "                       n_jobs=-1, oob_score=False, random_state=42, verbose=0,\n",
              "                       warm_start=False)"
            ]
          },
          "metadata": {
            "tags": []
          },
          "execution_count": 53
        }
      ]
    },
    {
      "cell_type": "code",
      "metadata": {
        "id": "pD-5MLQVAOb4",
        "colab": {
          "base_uri": "https://localhost:8080/",
          "height": 679
        },
        "outputId": "174504c8-49fb-4118-844d-9d60d2d5b369"
      },
      "source": [
        "#val 에서 th값 탐색\n",
        "now_model = model3_rf\n",
        "\n",
        "#scores 값인지 잘 체크\n",
        "y_pred = now_model.predict_proba(X_val)[:,1]\n",
        "\n",
        "precision, recall, th = precision_recall_curve(y_val, y_pred)\n",
        "\n",
        "\n",
        "\n",
        "f1 = 2*precision*recall/(precision+recall)\n",
        "plt.plot(th, f1[1:], 'b', label='Precision-Recall curve')\n",
        "plt.title('th & f1')\n",
        "plt.xlabel('th')\n",
        "plt.ylabel('f1')\n",
        "plt.show()\n",
        "\n",
        "#fix threshold\n",
        "tmp = list(f1[1:])\n",
        "ind = tmp.index(max(tmp))\n",
        "thr_fixed = th[ind]\n",
        "print(\"Val result\")\n",
        "print(\"f1 :\",max(tmp), \"/ thr:\" ,thr_fixed)\n",
        "\n",
        "\n",
        "#test_predicton\n",
        "y_pred = now_model.predict_proba(X_test)[:,1]\n",
        "y_pred [y_pred > thr_fixed] = 1\n",
        "y_pred [y_pred <= thr_fixed] = 0\n",
        "\n",
        "cm = confusion_matrix(y_test, y_pred)\n",
        "\n",
        "plot_confusion_matrix(cm, ['0', '1'], )\n",
        "\n",
        "print('precision: {:2.3}'.format(precision_score(y_test, y_pred, average='binary')))\n",
        "print('recall: {:2.3}'.format(recall_score(y_test, y_pred, average='binary')))\n",
        "print('f1_score: {:2.3}'.format(f1_score(y_test, y_pred, average='binary')))"
      ],
      "execution_count": null,
      "outputs": [
        {
          "output_type": "display_data",
          "data": {
            "image/png": "[encoded data removed]",
            "text/plain": [
              "<Figure size 432x288 with 1 Axes>"
            ]
          },
          "metadata": {
            "tags": []
          }
        },
        {
          "output_type": "stream",
          "text": [
            "Val result\n",
            "f1 : 0.47071352502662406 / thr: 0.21695821661998133\n"
          ],
          "name": "stdout"
        },
        {
          "output_type": "display_data",
          "data": {
            "image/png": "[encoded data removed]",
            "text/plain": [
              "<Figure size 432x288 with 2 Axes>"
            ]
          },
          "metadata": {
            "tags": []
          }
        },
        {
          "output_type": "stream",
          "text": [
            "precision: 0.42\n",
            "recall: 0.477\n",
            "f1_score: 0.447\n"
          ],
          "name": "stdout"
        }
      ]
    },
    {
      "cell_type": "code",
      "metadata": {
        "id": "Tp5o1Vg49G1S",
        "colab": {
          "base_uri": "https://localhost:8080/",
          "height": 143
        },
        "outputId": "81f4be46-23aa-48d0-d277-1ed129758f80"
      },
      "source": [
        "# model_3.2 RF, class_weight \n",
        "# https://www.kaggle.com/andreanuzzo/balance-the-imbalanced-rf-and-xgboost-with-smote\n",
        "\n",
        "from sklearn.ensemble import RandomForestClassifier\n",
        "\n",
        "model3_rf = RandomForestClassifier(n_jobs=-1, random_state = 42,\n",
        "                             n_estimators=500,\n",
        "                             class_weight = \"balanced_subsample\",\n",
        "                             max_features='auto',\n",
        "                             min_samples_leaf=2,\n",
        "                             criterion = 'entropy')\n",
        "\n",
        "model3_rf.fit(X_train, y_train)\n"
      ],
      "execution_count": null,
      "outputs": [
        {
          "output_type": "execute_result",
          "data": {
            "text/plain": [
              "RandomForestClassifier(bootstrap=True, class_weight='balanced_subsample',\n",
              "                       criterion='entropy', max_depth=None, max_features='auto',\n",
              "                       max_leaf_nodes=None, min_impurity_decrease=0.0,\n",
              "                       min_impurity_split=None, min_samples_leaf=2,\n",
              "                       min_samples_split=2, min_weight_fraction_leaf=0.0,\n",
              "                       n_estimators=500, n_jobs=-1, oob_score=False,\n",
              "                       random_state=42, verbose=0, warm_start=False)"
            ]
          },
          "metadata": {
            "tags": []
          },
          "execution_count": 55
        }
      ]
    },
    {
      "cell_type": "code",
      "metadata": {
        "id": "AWufapDbDl8X",
        "colab": {
          "base_uri": "https://localhost:8080/",
          "height": 679
        },
        "outputId": "8c809d4c-1fa8-410f-a215-4a0903848049"
      },
      "source": [
        "#val 에서 th값 탐색\n",
        "now_model = model3_rf\n",
        "\n",
        "#scores 값인지 잘 체크\n",
        "y_pred = now_model.predict_proba(X_val)[:,1]\n",
        "\n",
        "precision, recall, th = precision_recall_curve(y_val, y_pred)\n",
        "\n",
        "\n",
        "f1 = 2*precision*recall/(precision+recall)\n",
        "plt.plot(th, f1[1:], 'b', label='Precision-Recall curve')\n",
        "plt.title('th & f1')\n",
        "plt.xlabel('th')\n",
        "plt.ylabel('f1')\n",
        "plt.show()\n",
        "\n",
        "#fix threshold\n",
        "tmp = list(f1[1:])\n",
        "ind = tmp.index(max(tmp))\n",
        "thr_fixed = th[ind]\n",
        "print(\"Val result\")\n",
        "print(\"f1 :\",max(tmp), \"/ thr:\" ,thr_fixed)\n",
        "\n",
        "\n",
        "#test_predicton\n",
        "y_pred = now_model.predict_proba(X_test)[:,1]\n",
        "y_pred [y_pred > thr_fixed] = 1\n",
        "y_pred [y_pred <= thr_fixed] = 0\n",
        "\n",
        "cm = confusion_matrix(y_test, y_pred)\n",
        "\n",
        "plot_confusion_matrix(cm, ['0', '1'], )\n",
        "\n",
        "print('precision: {:2.3}'.format(precision_score(y_test, y_pred, average='binary')))\n",
        "print('recall: {:2.3}'.format(recall_score(y_test, y_pred, average='binary')))\n",
        "print('f1_score: {:2.3}'.format(f1_score(y_test, y_pred, average='binary')))"
      ],
      "execution_count": null,
      "outputs": [
        {
          "output_type": "display_data",
          "data": {
            "image/png": "[encoded data removed]",
            "text/plain": [
              "<Figure size 432x288 with 1 Axes>"
            ]
          },
          "metadata": {
            "tags": []
          }
        },
        {
          "output_type": "stream",
          "text": [
            "Val result\n",
            "f1 : 0.46028513238289204 / thr: 0.24328728801671187\n"
          ],
          "name": "stdout"
        },
        {
          "output_type": "display_data",
          "data": {
            "image/png": "[encoded data removed]",
            "text/plain": [
              "<Figure size 432x288 with 2 Axes>"
            ]
          },
          "metadata": {
            "tags": []
          }
        },
        {
          "output_type": "stream",
          "text": [
            "precision: 0.408\n",
            "recall: 0.494\n",
            "f1_score: 0.447\n"
          ],
          "name": "stdout"
        }
      ]
    },
    {
      "cell_type": "code",
      "metadata": {
        "id": "TPOIXj_Syzar"
      },
      "source": [
        "# model_4 XGB\n",
        "#base prediction\n",
        "xgdmat_train = xgb.DMatrix(X_train, y_train)\n",
        "xgdmat_val = xgb.DMatrix(X_val, y_val)\n",
        "xgdmat_test = xgb.DMatrix(X_test, y_test)\n",
        "#xgb_final = xgb.train(params_final, xgdmat_train, num_boost_round = 100)\n",
        "\n",
        "params = {'learning_rate': 0.2, 'n_estimators': 100, 'objective': 'binary:logistic', 'max_depth': 6, 'min_child_weight': 2, 'max_delta_step': 0, 'subsample': 1}\n",
        "\n",
        "xgb_final = xgb.train(params, xgdmat_train, num_boost_round = 100)"
      ],
      "execution_count": null,
      "outputs": []
    },
    {
      "cell_type": "code",
      "metadata": {
        "id": "1WbJQtgUHqdD",
        "colab": {
          "base_uri": "https://localhost:8080/",
          "height": 679
        },
        "outputId": "25cb4862-0c3d-4bf2-a275-ac26de2d07bc"
      },
      "source": [
        "#val 에서 th값 탐색\n",
        "now_model = xgb_final\n",
        "\n",
        "#scores 값인지 잘 체크\n",
        "y_pred = now_model.predict(xgdmat_val)\n",
        "\n",
        "precision, recall, th = precision_recall_curve(y_val, y_pred)\n",
        "\n",
        "\n",
        "\n",
        "f1 = 2*precision*recall/(precision+recall)\n",
        "plt.plot(th, f1[1:], 'b', label='Precision-Recall curve')\n",
        "plt.title('th & f1')\n",
        "plt.xlabel('th')\n",
        "plt.ylabel('f1')\n",
        "plt.show()\n",
        "\n",
        "#fix threshold\n",
        "tmp = list(f1[1:])\n",
        "ind = tmp.index(max(tmp))\n",
        "thr_fixed = th[ind]\n",
        "print(\"Val result\")\n",
        "print(\"f1 :\",max(tmp), \"/ thr:\" ,thr_fixed)\n",
        "\n",
        "\n",
        "#test_predicton\n",
        "y_pred = now_model.predict(xgdmat_test)\n",
        "y_pred [y_pred > thr_fixed] = 1\n",
        "y_pred [y_pred <= thr_fixed] = 0\n",
        "\n",
        "cm = confusion_matrix(y_test, y_pred)\n",
        "\n",
        "plot_confusion_matrix(cm, ['0', '1'], )\n",
        "\n",
        "print('precision: {:2.3}'.format(precision_score(y_test, y_pred, average='binary')))\n",
        "print('recall: {:2.3}'.format(recall_score(y_test, y_pred, average='binary')))\n",
        "print('f1_score: {:2.3}'.format(f1_score(y_test, y_pred, average='binary')))"
      ],
      "execution_count": null,
      "outputs": [
        {
          "output_type": "display_data",
          "data": {
            "image/png": "[encoded data removed]",
            "text/plain": [
              "<Figure size 432x288 with 1 Axes>"
            ]
          },
          "metadata": {
            "tags": []
          }
        },
        {
          "output_type": "stream",
          "text": [
            "Val result\n",
            "f1 : 0.48923679060665365 / thr: 0.18852143\n"
          ],
          "name": "stdout"
        },
        {
          "output_type": "display_data",
          "data": {
            "image/png": "[encoded data removed]",
            "text/plain": [
              "<Figure size 432x288 with 2 Axes>"
            ]
          },
          "metadata": {
            "tags": []
          }
        },
        {
          "output_type": "stream",
          "text": [
            "precision: 0.406\n",
            "recall: 0.547\n",
            "f1_score: 0.466\n"
          ],
          "name": "stdout"
        }
      ]
    },
    {
      "cell_type": "markdown",
      "metadata": {
        "id": "tUiFDB2pfun2"
      },
      "source": [
        "### Balanced RF"
      ]
    },
    {
      "cell_type": "code",
      "metadata": {
        "id": "53Ex3B-xy18j",
        "colab": {
          "base_uri": "https://localhost:8080/",
          "height": 271
        },
        "outputId": "b003c23f-d0d2-45f1-b27d-9fa697780958"
      },
      "source": [
        "# model_5 Balanced RF\n",
        "\n",
        "from imblearn.ensemble import BalancedRandomForestClassifier\n",
        "\n",
        "clf = BalancedRandomForestClassifier(n_jobs=-1, \n",
        "                                     random_state = 42,\n",
        "                                     n_estimators=500, \n",
        "                                     max_features='auto',\n",
        "                                     min_samples_leaf=2,\n",
        "                                     criterion = 'entropy')\n",
        "\n",
        "clf.fit(X_train, y_train)\n"
      ],
      "execution_count": null,
      "outputs": [
        {
          "output_type": "stream",
          "text": [
            "/usr/local/lib/python3.6/dist-packages/sklearn/externals/six.py:31: DeprecationWarning: The module is deprecated in version 0.21 and will be removed in version 0.23 since we've dropped support for Python 2.7. Please rely on the official version of six (https://pypi.org/project/six/).\n",
            "  \"(https://pypi.org/project/six/).\", DeprecationWarning)\n",
            "/usr/local/lib/python3.6/dist-packages/sklearn/externals/joblib/__init__.py:15: DeprecationWarning: sklearn.externals.joblib is deprecated in 0.21 and will be removed in 0.23. Please import this functionality directly from joblib, which can be installed with: pip install joblib. If this warning is raised when loading pickled models, you may need to re-serialize those models with scikit-learn 0.21+.\n",
            "  warnings.warn(msg, category=DeprecationWarning)\n"
          ],
          "name": "stderr"
        },
        {
          "output_type": "execute_result",
          "data": {
            "text/plain": [
              "BalancedRandomForestClassifier(bootstrap=True, class_weight=None,\n",
              "                               criterion='entropy', max_depth=None,\n",
              "                               max_features='auto', max_leaf_nodes=None,\n",
              "                               min_impurity_decrease=0.0, min_samples_leaf=2,\n",
              "                               min_samples_split=2,\n",
              "                               min_weight_fraction_leaf=0.0, n_estimators=500,\n",
              "                               n_jobs=-1, oob_score=False, random_state=42,\n",
              "                               replacement=False, sampling_strategy='auto',\n",
              "                               verbose=0, warm_start=False)"
            ]
          },
          "metadata": {
            "tags": []
          },
          "execution_count": 94
        }
      ]
    },
    {
      "cell_type": "code",
      "metadata": {
        "id": "_A0ZC_1qgzTa",
        "colab": {
          "base_uri": "https://localhost:8080/",
          "height": 679
        },
        "outputId": "7a01e7e4-ee57-4441-aeeb-185386404b02"
      },
      "source": [
        "#val 에서 th값 탐색\n",
        "now_model = clf\n",
        "\n",
        "#scores 값인지 잘 체크\n",
        "y_pred = now_model.predict_proba(X_val)[:,1]\n",
        "\n",
        "precision, recall, th = precision_recall_curve(y_val, y_pred)\n",
        "\n",
        "\n",
        "\n",
        "f1 = 2*precision*recall/(precision+recall)\n",
        "plt.plot(th, f1[1:], 'b', label='Precision-Recall curve')\n",
        "plt.title('th & f1')\n",
        "plt.xlabel('th')\n",
        "plt.ylabel('f1')\n",
        "plt.show()\n",
        "\n",
        "#fix threshold\n",
        "tmp = list(f1[1:])\n",
        "ind = tmp.index(max(tmp))\n",
        "thr_fixed = th[ind]\n",
        "print(\"Val result\")\n",
        "print(\"f1 :\",max(tmp), \"/ thr:\" ,thr_fixed)\n",
        "\n",
        "\n",
        "#test_predicton\n",
        "y_pred = now_model.predict_proba(X_test)[:,1]\n",
        "y_pred [y_pred > thr_fixed] = 1\n",
        "y_pred [y_pred <= thr_fixed] = 0\n",
        "\n",
        "cm = confusion_matrix(y_test, y_pred)\n",
        "\n",
        "plot_confusion_matrix(cm, ['0', '1'], )\n",
        "\n",
        "print('precision: {:2.3}'.format(precision_score(y_test, y_pred, average='binary')))\n",
        "print('recall: {:2.3}'.format(recall_score(y_test, y_pred, average='binary')))\n",
        "print('f1_score: {:2.3}'.format(f1_score(y_test, y_pred, average='binary')))"
      ],
      "execution_count": null,
      "outputs": [
        {
          "output_type": "display_data",
          "data": {
            "image/png": "[encoded data removed]",
            "text/plain": [
              "<Figure size 432x288 with 1 Axes>"
            ]
          },
          "metadata": {
            "tags": []
          }
        },
        {
          "output_type": "stream",
          "text": [
            "Val result\n",
            "f1 : 0.4389312977099237 / thr: 0.7691597069597068\n"
          ],
          "name": "stdout"
        },
        {
          "output_type": "display_data",
          "data": {
            "image/png": "[encoded data removed]",
            "text/plain": [
              "<Figure size 432x288 with 2 Axes>"
            ]
          },
          "metadata": {
            "tags": []
          }
        },
        {
          "output_type": "stream",
          "text": [
            "precision: 0.378\n",
            "recall: 0.499\n",
            "f1_score: 0.43\n"
          ],
          "name": "stdout"
        }
      ]
    },
    {
      "cell_type": "markdown",
      "metadata": {
        "id": "burnUOTNfyKb"
      },
      "source": [
        "### IMB- XGB"
      ]
    },
    {
      "cell_type": "code",
      "metadata": {
        "id": "jAZW2ONmy5DD",
        "colab": {
          "base_uri": "https://localhost:8080/",
          "height": 199
        },
        "outputId": "81c9d193-9ec0-4175-a092-2f0af6516154"
      },
      "source": [
        "# model_6 IMB- XGB\n",
        "!pip install imbalance-xgboost"
      ],
      "execution_count": null,
      "outputs": [
        {
          "output_type": "stream",
          "text": [
            "Collecting imbalance-xgboost\n",
            "  Downloading https://files.pythonhosted.org/packages/92/5e/f3817e9d7471e5d3031ca2711fae821908458d25fa320db93f26af01395a/imbalance_xgboost-0.7.4-py3-none-any.whl\n",
            "Requirement already satisfied: scikit-learn>=0.19 in /usr/local/lib/python3.6/dist-packages (from imbalance-xgboost) (0.21.3)\n",
            "Requirement already satisfied: numpy>=1.11 in /usr/local/lib/python3.6/dist-packages (from imbalance-xgboost) (1.16.5)\n",
            "Requirement already satisfied: xgboost>=0.4a30 in /usr/local/lib/python3.6/dist-packages (from imbalance-xgboost) (0.90)\n",
            "Requirement already satisfied: joblib>=0.11 in /usr/local/lib/python3.6/dist-packages (from scikit-learn>=0.19->imbalance-xgboost) (0.14.0)\n",
            "Requirement already satisfied: scipy>=0.17.0 in /usr/local/lib/python3.6/dist-packages (from scikit-learn>=0.19->imbalance-xgboost) (1.3.1)\n",
            "Installing collected packages: imbalance-xgboost\n",
            "Successfully installed imbalance-xgboost-0.7.4\n"
          ],
          "name": "stdout"
        }
      ]
    },
    {
      "cell_type": "code",
      "metadata": {
        "id": "CwYDpTrDOjKT",
        "colab": {
          "base_uri": "https://localhost:8080/",
          "height": 109
        },
        "outputId": "3e8ec373-26ac-46bb-e238-c27124ba36f2"
      },
      "source": [
        "from imxgboost.imbalance_xgb import imbalance_xgboost as imb_xgb\n",
        "from sklearn.model_selection import GridSearchCV\n",
        "\n",
        "#search params\n",
        "xgboster_focal = imb_xgb(special_objective='focal')\n",
        "xgboster_weight = imb_xgb(special_objective='weighted')\n",
        "CV_focal_booster = GridSearchCV(xgboster_focal, {\"focal_gamma\":[1.0,1.5,2.0,2.5,3.0]})\n",
        "CV_weight_booster = GridSearchCV(xgboster_weight, {\"imbalance_alpha\":[1.5,2.0,2.5,3.0,4.0]})\n",
        "\n",
        "CV_focal_booster.fit(X_train, y_train)\n",
        "CV_weight_booster.fit(X_train, y_train)\n",
        "opt_focal_booster = CV_focal_booster.best_estimator_\n",
        "opt_weight_booster = CV_weight_booster.best_estimator_"
      ],
      "execution_count": null,
      "outputs": [
        {
          "output_type": "stream",
          "text": [
            "/usr/local/lib/python3.6/dist-packages/sklearn/model_selection/_split.py:1978: FutureWarning: The default value of cv will change from 3 to 5 in version 0.22. Specify it explicitly to silence this warning.\n",
            "  warnings.warn(CV_WARNING, FutureWarning)\n",
            "/usr/local/lib/python3.6/dist-packages/sklearn/model_selection/_split.py:1978: FutureWarning: The default value of cv will change from 3 to 5 in version 0.22. Specify it explicitly to silence this warning.\n",
            "  warnings.warn(CV_WARNING, FutureWarning)\n"
          ],
          "name": "stderr"
        }
      ]
    },
    {
      "cell_type": "code",
      "metadata": {
        "id": "oGecC2CMTqvR",
        "colab": {
          "base_uri": "https://localhost:8080/",
          "height": 35
        },
        "outputId": "2402e657-06fd-4ced-c0ce-17cd5df3310d"
      },
      "source": [
        "CV_weight_booster.best_params_"
      ],
      "execution_count": null,
      "outputs": [
        {
          "output_type": "execute_result",
          "data": {
            "text/plain": [
              "{'imbalance_alpha': 1.5}"
            ]
          },
          "metadata": {
            "tags": []
          },
          "execution_count": 85
        }
      ]
    },
    {
      "cell_type": "code",
      "metadata": {
        "id": "A3x7SSyySWkc"
      },
      "source": [
        "#params1 = {'focal_gamma': 3.0 ,'learning_rate': 0.2, 'n_estimators': 100, 'objective': 'binary:logistic', 'max_depth': 6, 'min_child_weight': 2, 'max_delta_step': 0, 'subsample': 1}"
      ],
      "execution_count": null,
      "outputs": []
    },
    {
      "cell_type": "code",
      "metadata": {
        "id": "NVX4L3uPUApb"
      },
      "source": [
        "#params2 = {'special_objective':'weighted', 'imbalance_alpha': 1.5 ,'learning_rate': 0.2, 'n_estimators': 100, 'objective': 'binary:logistic', 'max_depth': 6, 'min_child_weight': 2, 'max_delta_step': 0, 'subsample': 1}"
      ],
      "execution_count": null,
      "outputs": []
    },
    {
      "cell_type": "code",
      "metadata": {
        "id": "BcKniCSP0wyy",
        "colab": {
          "base_uri": "https://localhost:8080/",
          "height": 679
        },
        "outputId": "4403be87-a3f1-4ef8-8c2f-9fbfefd6c2ef"
      },
      "source": [
        "#Focal model\n",
        "\n",
        "#val 에서 th값 탐색\n",
        "now_model = opt_focal_booster\n",
        "\n",
        "#scores 값인지 잘 체크\n",
        "y_pred = now_model.predict_sigmoid(X_val, y=None)\n",
        "\n",
        "precision, recall, th = precision_recall_curve(y_val, y_pred)\n",
        "\n",
        "\n",
        "\n",
        "f1 = 2*precision*recall/(precision+recall)\n",
        "plt.plot(th, f1[1:], 'b', label='Precision-Recall curve')\n",
        "plt.title('th & f1')\n",
        "plt.xlabel('th')\n",
        "plt.ylabel('f1')\n",
        "plt.show()\n",
        "\n",
        "#fix threshold\n",
        "tmp = list(f1[1:])\n",
        "ind = tmp.index(max(tmp))\n",
        "thr_fixed = th[ind]\n",
        "print(\"Val result\")\n",
        "print(\"f1 :\",max(tmp), \"/ thr:\" ,thr_fixed)\n",
        "\n",
        "\n",
        "#test_predicton\n",
        "y_pred = now_model.predict_sigmoid(X_test, y=None)\n",
        "y_pred [y_pred > thr_fixed] = 1\n",
        "y_pred [y_pred <= thr_fixed] = 0\n",
        "\n",
        "cm = confusion_matrix(y_test, y_pred)\n",
        "\n",
        "plot_confusion_matrix(cm, ['0', '1'], )\n",
        "\n",
        "print('precision: {:2.3}'.format(precision_score(y_test, y_pred, average='binary')))\n",
        "print('recall: {:2.3}'.format(recall_score(y_test, y_pred, average='binary')))\n",
        "print('f1_score: {:2.3}'.format(f1_score(y_test, y_pred, average='binary')))"
      ],
      "execution_count": null,
      "outputs": [
        {
          "output_type": "display_data",
          "data": {
            "image/png": "[encoded data removed]",
            "text/plain": [
              "<Figure size 432x288 with 1 Axes>"
            ]
          },
          "metadata": {
            "tags": []
          }
        },
        {
          "output_type": "stream",
          "text": [
            "Val result\n",
            "f1 : 0.42217484008528783 / thr: 0.27209458\n"
          ],
          "name": "stdout"
        },
        {
          "output_type": "display_data",
          "data": {
            "image/png": "[encoded data removed]",
            "text/plain": [
              "<Figure size 432x288 with 2 Axes>"
            ]
          },
          "metadata": {
            "tags": []
          }
        },
        {
          "output_type": "stream",
          "text": [
            "precision: 0.416\n",
            "recall: 0.464\n",
            "f1_score: 0.438\n"
          ],
          "name": "stdout"
        }
      ]
    },
    {
      "cell_type": "code",
      "metadata": {
        "id": "ESEBtjvqeoGA"
      },
      "source": [
        "#weight model\n",
        "\n",
        "#val 에서 th값 탐색\n",
        "now_model = opt_weight_booster\n",
        "\n",
        "#scores 값인지 잘 체크\n",
        "y_pred = now_model.predict_sigmoid(X_val, y=None)\n",
        "\n",
        "precision, recall, th = precision_recall_curve(y_val, y_pred)\n",
        "\n",
        "\n",
        "\n",
        "f1 = 2*precision*recall/(precision+recall)\n",
        "plt.plot(th, f1[1:], 'b', label='Precision-Recall curve')\n",
        "plt.title('th & f1')\n",
        "plt.xlabel('th')\n",
        "plt.ylabel('f1')\n",
        "plt.show()\n",
        "\n",
        "#fix threshold\n",
        "tmp = list(f1[1:])\n",
        "ind = tmp.index(max(tmp))\n",
        "thr_fixed = th[ind]\n",
        "print(\"Val result\")\n",
        "print(\"f1 :\",max(tmp), \"/ thr:\" ,thr_fixed)\n",
        "\n",
        "\n",
        "#test_predicton\n",
        "y_pred = now_model.predict_sigmoid(X_test, y=None)\n",
        "y_pred [y_pred > thr_fixed] = 1\n",
        "y_pred [y_pred <= thr_fixed] = 0\n",
        "\n",
        "cm = confusion_matrix(y_test, y_pred)\n",
        "\n",
        "plot_confusion_matrix(cm, ['0', '1'], )\n",
        "\n",
        "print('precision: {:2.3}'.format(precision_score(y_test, y_pred, average='binary')))\n",
        "print('recall: {:2.3}'.format(recall_score(y_test, y_pred, average='binary')))\n",
        "print('f1_score: {:2.3}'.format(f1_score(y_test, y_pred, average='binary')))"
      ],
      "execution_count": null,
      "outputs": []
    }
  ]
}
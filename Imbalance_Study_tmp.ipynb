{
  "nbformat": 4,
  "nbformat_minor": 0,
  "metadata": {
    "colab": {
      "name": "Imbalance_Study_tmp.ipynb",
      "provenance": [],
      "collapsed_sections": [],
      "include_colab_link": true
    },
    "kernelspec": {
      "name": "python3",
      "display_name": "Python 3"
    },
    "accelerator": "GPU"
  },
  "cells": [
    {
      "cell_type": "markdown",
      "metadata": {
        "id": "view-in-github",
        "colab_type": "text"
      },
      "source": [
        "<a href=\"https://colab.research.google.com/github/dhchoi1457/untitled1/blob/master/Imbalance_Study_tmp.ipynb\" target=\"_parent\"><img src=\"https://colab.research.google.com/assets/colab-badge.svg\" alt=\"Open In Colab\"/></a>"
      ]
    },
    {
      "cell_type": "code",
      "metadata": {
        "id": "AB049Tw_B5XE"
      },
      "source": [
        "import pandas as pd \n",
        "import matplotlib.pyplot as plt \n",
        "import numpy as np \n",
        "import xgboost as xgb\n",
        "from sklearn.metrics import confusion_matrix, roc_curve, roc_auc_score, f1_score, precision_recall_curve, precision_score\n",
        "import itertools\n",
        "\n",
        "from sklearn.metrics import recall_score\n",
        "from sklearn.metrics import classification_report\n",
        "from sklearn.metrics import auc, accuracy_score, mean_squared_error\n",
        "from sklearn.model_selection import cross_val_score, GridSearchCV, KFold, RandomizedSearchCV, train_test_split\n",
        "import xgboost as xgb"
      ],
      "execution_count": null,
      "outputs": []
    },
    {
      "cell_type": "code",
      "metadata": {
        "id": "ETqf-p8IBpA-",
        "colab": {
          "base_uri": "https://localhost:8080/",
          "height": 35
        },
        "outputId": "1c5447ae-0d25-47ff-ebe5-87da21783f76"
      },
      "source": [
        "#read the data\n",
        "df = pd.read_csv(train_path, encoding=\"cp949\")\n",
        "df.shape"
      ],
      "execution_count": null,
      "outputs": [
        {
          "output_type": "execute_result",
          "data": {
            "text/plain": [
              "(100233, 69)"
            ]
          },
          "metadata": {
            "tags": []
          },
          "execution_count": 33
        }
      ]
    },
    {
      "cell_type": "code",
      "metadata": {
        "id": "J_Fp8VOjB2VC"
      },
      "source": [
        "#범주형 확인 후 one-hot\n",
        "#df.dtypes[df.dtypes == 'object']\n",
        "\n",
        "#one-hot encoding & add to df\n",
        "tmp = \"OCCP_NAME_G\"\n",
        "df = pd.concat([df, pd.get_dummies(df[tmp],prefix=tmp)], axis=1);\n",
        "df = df.drop(tmp,1)\n",
        "\n",
        "tmp = \"MATE_OCCP_NAME_G\"\n",
        "df = pd.concat([df, pd.get_dummies(df[tmp],prefix=tmp)], axis=1);\n",
        "df = df.drop(tmp,1)\n",
        "\n",
        "tmp = \"LT1Y_PEOD_RATE\"\n",
        "df = pd.concat([df, pd.get_dummies(df[tmp],prefix=tmp)], axis=1);\n",
        "df = df.drop(tmp,1)\n",
        "\n",
        "tmp = \"AGE\"\n",
        "df = pd.concat([df, pd.get_dummies(df[tmp],prefix=tmp)], axis=1);\n",
        "df = df.drop(tmp,1)\n",
        "\n",
        "tmp = \"SEX\"\n",
        "df = pd.concat([df, pd.get_dummies(df[tmp],prefix=tmp)], axis=1);\n",
        "df = df.drop(tmp,1)\n",
        "\n",
        "tmp = \"TEL_MBSP_GRAD\"\n",
        "df = pd.concat([df, pd.get_dummies(df[tmp],prefix=tmp)], axis=1);\n",
        "df = df.drop(tmp,1)\n",
        "\n",
        "tmp = \"CBPT_MBSP_YN\"\n",
        "df = pd.concat([df, pd.get_dummies(df[tmp],prefix=tmp)], axis=1);\n",
        "df = df.drop(tmp,1)\n",
        "\n",
        "tmp = \"PAYM_METD\"\n",
        "df = pd.concat([df, pd.get_dummies(df[tmp],prefix=tmp)], axis=1);\n",
        "df = df.drop(tmp,1)\n",
        "\n",
        "tmp = \"LINE_STUS\"\n",
        "df = pd.concat([df, pd.get_dummies(df[tmp],prefix=tmp)], axis=1);\n",
        "df = df.drop(tmp,1)\n",
        "\n",
        "df.loc[df['LAST_CHLD_AGE'].isnull(), 'LAST_CHLD_AGE'] = 0\n",
        "df = df.drop('CUST_ID',1)"
      ],
      "execution_count": null,
      "outputs": []
    },
    {
      "cell_type": "markdown",
      "metadata": {
        "id": "VCPwJjiDAQtt"
      },
      "source": [
        ""
      ]
    },
    {
      "cell_type": "markdown",
      "metadata": {
        "id": "tjCYzWYjB5zZ"
      },
      "source": [
        ""
      ]
    },
    {
      "cell_type": "code",
      "metadata": {
        "id": "kOtgT5zJBQ94"
      },
      "source": [
        ""
      ],
      "execution_count": null,
      "outputs": []
    },
    {
      "cell_type": "code",
      "metadata": {
        "id": "n_6p1hnFBmMF",
        "colab": {
          "base_uri": "https://localhost:8080/",
          "height": 35
        },
        "outputId": "a91d4731-1ea6-4c38-b23e-f40f09a15453"
      },
      "source": [
        "# 데이터 import 및 간단한 전처리\n",
        "\n",
        "# XGB , LR , SVM , DNN 모델 구조 확정\n",
        "\n",
        "# metric은 f1 score\n",
        "\n",
        "# imbalanced 개선 테스트 진행\n",
        "\n",
        "import os\n",
        "\n",
        "print (os.getcwd())\n",
        "\n",
        "default_path = \"/content/drive/My Drive/Colab Notebooks/data/\"\n",
        "\n",
        "train_path = default_path + \"/UCI_Credit_Card.csv\"\n",
        "#test, No label"
      ],
      "execution_count": null,
      "outputs": [
        {
          "output_type": "stream",
          "text": [
            "/content\n"
          ],
          "name": "stdout"
        }
      ]
    },
    {
      "cell_type": "code",
      "metadata": {
        "id": "MG33zWYwBQ-M"
      },
      "source": [
        ""
      ],
      "execution_count": null,
      "outputs": []
    },
    {
      "cell_type": "code",
      "metadata": {
        "id": "BuC3UccYBQ-X"
      },
      "source": [
        ""
      ],
      "execution_count": null,
      "outputs": []
    },
    {
      "cell_type": "code",
      "metadata": {
        "id": "UO2bfUM-Dc5r"
      },
      "source": [
        ""
      ],
      "execution_count": null,
      "outputs": []
    },
    {
      "cell_type": "code",
      "metadata": {
        "id": "7snqN-CpBQ-y"
      },
      "source": [
        ""
      ],
      "execution_count": null,
      "outputs": []
    },
    {
      "cell_type": "code",
      "metadata": {
        "id": "PWsalEmgBnQb",
        "colab": {
          "base_uri": "https://localhost:8080/",
          "height": 35
        },
        "outputId": "2d8bca42-da5b-4074-d9cb-7467017e63ea"
      },
      "source": [
        "# 데이터 import 및 간단한 전처리\n",
        "\n",
        "# XGB , LR , SVM , DNN 모델 구조 확정\n",
        "\n",
        "# metric은 f1 score\n",
        "\n",
        "# imbalanced 개선 테스트 진행\n",
        "\n",
        "import os\n",
        "\n",
        "print (os.getcwd())\n",
        "\n",
        "default_path = \"/content/drive/My Drive/Colab Notebooks/data/\"\n",
        "\n",
        "train_path = default_path + \"/Data_set.csv\"\n",
        "#test, No label"
      ],
      "execution_count": null,
      "outputs": [
        {
          "output_type": "stream",
          "text": [
            "/content\n"
          ],
          "name": "stdout"
        }
      ]
    },
    {
      "cell_type": "code",
      "metadata": {
        "id": "1HPdkF3Bm268",
        "colab": {
          "base_uri": "https://localhost:8080/",
          "height": 53
        },
        "outputId": "22f72552-55aa-44a0-8a58-380c972ba817"
      },
      "source": [
        "# feature , target split\n",
        "y = np.array(df.TARGET.tolist())     #classes: 1..fraud, 0..no fraud\n",
        "df = df.drop('TARGET', 1)\n",
        "X = np.array(df.as_matrix())   # features\n",
        "\n",
        "\n",
        "#random_state=42\n",
        "\n",
        "\n",
        "# train, val, test split\n",
        "# 1,42가 LR 많이낮음\n",
        "\n",
        "\n",
        "X_train, X_tmp, y_train, y_tmp = train_test_split(X, y, test_size=0.2, train_size=0.8, stratify = y , random_state=1)\n",
        "X_val, X_test, y_val, y_test = train_test_split(X_tmp, y_tmp, test_size=0.5, train_size=0.5, stratify = y_tmp, random_state=42)"
      ],
      "execution_count": null,
      "outputs": [
        {
          "output_type": "stream",
          "text": [
            "/usr/local/lib/python3.6/dist-packages/ipykernel_launcher.py:3: FutureWarning: Method .as_matrix will be removed in a future version. Use .values instead.\n",
            "  This is separate from the ipykernel package so we can avoid doing imports until\n"
          ],
          "name": "stderr"
        }
      ]
    },
    {
      "cell_type": "code",
      "metadata": {
        "id": "4j1D1CjRMrka"
      },
      "source": [
        "#import collections\n",
        "#print(collections.Counter(y_train))\n",
        "#print(collections.Counter(y_val))\n",
        "#print(collections.Counter(y_test))"
      ],
      "execution_count": null,
      "outputs": []
    },
    {
      "cell_type": "code",
      "metadata": {
        "id": "F6vHUEd267Io"
      },
      "source": [
        "def plot_confusion_matrix(cm, classes,\n",
        "                          normalize=False,\n",
        "                          title='Confusion matrix',\n",
        "                          cmap=plt.cm.Blues):\n",
        "    \"\"\"\n",
        "    This function prints and plots the confusion matrix.\n",
        "    Normalization can be applied by setting `normalize=True`.\n",
        "    \"\"\"\n",
        "    plt.imshow(cm, interpolation='nearest', cmap=cmap)\n",
        "    plt.title(title)\n",
        "    plt.colorbar()\n",
        "    tick_marks = np.arange(len(classes))\n",
        "    plt.xticks(tick_marks, classes, rotation=45)\n",
        "    plt.yticks(tick_marks, classes)\n",
        "\n",
        "    if normalize:\n",
        "        cm = cm.astype('float') / cm.sum(axis=1)[:, np.newaxis]\n",
        "    thresh = cm.max() / 2.\n",
        "    for i, j in itertools.product(range(cm.shape[0]), range(cm.shape[1])):\n",
        "        plt.text(j, i, cm[i, j],\n",
        "                 horizontalalignment=\"center\",\n",
        "                 color=\"white\" if cm[i, j] > thresh else \"black\")\n",
        "\n",
        "    plt.tight_layout()\n",
        "    plt.ylabel('True label')\n",
        "    plt.xlabel('Predicted label')\n",
        "    plt.show()\n",
        "\n",
        "def show_data(y_test, y_pred):\n",
        "  print('Precision =     {:.3f}'.format(tp/(tp+fp)))"
      ],
      "execution_count": null,
      "outputs": []
    },
    {
      "cell_type": "markdown",
      "metadata": {
        "id": "qlN0P4JPJMzU"
      },
      "source": [
        "\n",
        "## Base 모델 성능 평가"
      ]
    },
    {
      "cell_type": "markdown",
      "metadata": {
        "id": "Vrmrs-6-gEzQ"
      },
      "source": [
        "### LR"
      ]
    },
    {
      "cell_type": "code",
      "metadata": {
        "id": "2k87622Y7X1m",
        "colab": {
          "base_uri": "https://localhost:8080/",
          "height": 143
        },
        "outputId": "5aa11806-eb9b-4478-f15e-7e46d3913a9e"
      },
      "source": [
        "# model1 LR\n",
        "from sklearn.linear_model import LogisticRegression\n",
        "from sklearn.preprocessing import StandardScaler\n",
        "\n",
        "#scaler\n",
        "scaler = StandardScaler()\n",
        "scaler.fit(X_train)\n",
        "X_tr_scaled = scaler.transform(X_train)\n",
        "X_val_scaled = scaler.transform(X_val)\n",
        "X_test_scaled = scaler.transform(X_test)\n",
        "\n",
        "lr = LogisticRegression(random_state=42)\n",
        "lr.fit(X_tr_scaled, y_train)"
      ],
      "execution_count": null,
      "outputs": [
        {
          "output_type": "stream",
          "text": [
            "/usr/local/lib/python3.6/dist-packages/sklearn/linear_model/logistic.py:432: FutureWarning: Default solver will be changed to 'lbfgs' in 0.22. Specify a solver to silence this warning.\n",
            "  FutureWarning)\n"
          ],
          "name": "stderr"
        },
        {
          "output_type": "execute_result",
          "data": {
            "text/plain": [
              "LogisticRegression(C=1.0, class_weight=None, dual=False, fit_intercept=True,\n",
              "                   intercept_scaling=1, l1_ratio=None, max_iter=100,\n",
              "                   multi_class='warn', n_jobs=None, penalty='l2',\n",
              "                   random_state=42, solver='warn', tol=0.0001, verbose=0,\n",
              "                   warm_start=False)"
            ]
          },
          "metadata": {
            "tags": []
          },
          "execution_count": 49
        }
      ]
    },
    {
      "cell_type": "code",
      "metadata": {
        "id": "4HvSdmrlEaf5",
        "colab": {
          "base_uri": "https://localhost:8080/",
          "height": 679
        },
        "outputId": "4ea279f0-1420-4736-cb2e-797bdefd0812"
      },
      "source": [
        "\n",
        "#val 에서 th값 탐색\n",
        "now_model = lr\n",
        "\n",
        "#scores 값인지 잘 체크\n",
        "y_pred = now_model.predict_proba(X_val_scaled)[:,1]\n",
        "\n",
        "precision, recall, th = precision_recall_curve(y_val, y_pred)\n",
        "\n",
        "\n",
        "\n",
        "f1 = 2*precision*recall/(precision+recall)\n",
        "plt.plot(th, f1[1:], 'b', label='Precision-Recall curve')\n",
        "plt.title('th & f1')\n",
        "plt.xlabel('th')\n",
        "plt.ylabel('f1')\n",
        "plt.show()\n",
        "\n",
        "#fix threshold\n",
        "tmp = list(f1[1:])\n",
        "ind = tmp.index(max(tmp))\n",
        "thr_fixed = th[ind]\n",
        "print(\"Val result\")\n",
        "print(\"f1 :\",max(tmp), \"/ thr:\" ,thr_fixed)\n",
        "\n",
        "\n",
        "#test_predicton\n",
        "y_pred = now_model.predict_proba(X_test_scaled)[:,1]\n",
        "y_pred [y_pred > thr_fixed] = 1\n",
        "y_pred [y_pred <= thr_fixed] = 0\n",
        "\n",
        "cm = confusion_matrix(y_test, y_pred)\n",
        "\n",
        "plot_confusion_matrix(cm, ['0', '1'], )\n",
        "\n",
        "print('precision: {:2.3}'.format(precision_score(y_test, y_pred, average='binary')))\n",
        "print('recall: {:2.3}'.format(recall_score(y_test, y_pred, average='binary')))\n",
        "print('f1_score: {:2.3}'.format(f1_score(y_test, y_pred, average='binary')))\n",
        "\n"
      ],
      "execution_count": null,
      "outputs": [
        {
          "output_type": "display_data",
          "data": {
            "image/png": "[encoded data removed]",
            "text/plain": [
              "<Figure size 432x288 with 1 Axes>"
            ]
          },
          "metadata": {
            "tags": []
          }
        },
        {
          "output_type": "stream",
          "text": [
            "Val result\n",
            "f1 : 0.39610389610389607 / thr: 0.1357679890201248\n"
          ],
          "name": "stdout"
        },
        {
          "output_type": "display_data",
          "data": {
            "image/png": "[encoded data removed]",
            "text/plain": [
              "<Figure size 432x288 with 2 Axes>"
            ]
          },
          "metadata": {
            "tags": []
          }
        },
        {
          "output_type": "stream",
          "text": [
            "precision: 0.307\n",
            "recall: 0.559\n",
            "f1_score: 0.396\n"
          ],
          "name": "stdout"
        }
      ]
    },
    {
      "cell_type": "markdown",
      "metadata": {
        "id": "LG4DtCWKgAc7"
      },
      "source": [
        "### RF"
      ]
    },
    {
      "cell_type": "code",
      "metadata": {
        "id": "2g8lqoQFdlrJ",
        "colab": {
          "base_uri": "https://localhost:8080/",
          "height": 143
        },
        "outputId": "1902d1ad-e7ea-4c33-dd42-081152020c03"
      },
      "source": [
        "# model_3.1 RF\n",
        "# https://www.kaggle.com/andreanuzzo/balance-the-imbalanced-rf-and-xgboost-with-smote\n",
        "\n",
        "from sklearn.ensemble import RandomForestClassifier\n",
        "\n",
        "'''\n",
        "model3_rf = RandomForestClassifier(n_jobs=-1, random_state = 42,\n",
        "                             n_estimators=500, \n",
        "                             max_features='auto',\n",
        "                             min_samples_leaf=2,\n",
        "                             criterion = 'entropy')\n",
        "'''\n",
        "model3_rf = RandomForestClassifier(n_jobs=-1, random_state = 42, n_estimators=100) #, criterion = 'entropy')\n",
        "\n",
        "model3_rf.fit(X_train, y_train)\n"
      ],
      "execution_count": null,
      "outputs": [
        {
          "output_type": "execute_result",
          "data": {
            "text/plain": [
              "RandomForestClassifier(bootstrap=True, class_weight=None, criterion='gini',\n",
              "                       max_depth=None, max_features='auto', max_leaf_nodes=None,\n",
              "                       min_impurity_decrease=0.0, min_impurity_split=None,\n",
              "                       min_samples_leaf=1, min_samples_split=2,\n",
              "                       min_weight_fraction_leaf=0.0, n_estimators=100,\n",
              "                       n_jobs=-1, oob_score=False, random_state=42, verbose=0,\n",
              "                       warm_start=False)"
            ]
          },
          "metadata": {
            "tags": []
          },
          "execution_count": 97
        }
      ]
    },
    {
      "cell_type": "code",
      "metadata": {
        "id": "pD-5MLQVAOb4",
        "colab": {
          "base_uri": "https://localhost:8080/",
          "height": 679
        },
        "outputId": "d724e599-d272-42af-a512-af6db1f9374a"
      },
      "source": [
        "#val 에서 th값 탐색\n",
        "now_model = model3_rf\n",
        "\n",
        "#scores 값인지 잘 체크\n",
        "y_pred = now_model.predict_proba(X_val)[:,1]\n",
        "\n",
        "precision, recall, th = precision_recall_curve(y_val, y_pred)\n",
        "\n",
        "\n",
        "\n",
        "f1 = 2*precision*recall/(precision+recall)\n",
        "plt.plot(th, f1[1:], 'b', label='Precision-Recall curve')\n",
        "plt.title('th & f1')\n",
        "plt.xlabel('th')\n",
        "plt.ylabel('f1')\n",
        "plt.show()\n",
        "\n",
        "#fix threshold\n",
        "tmp = list(f1[1:])\n",
        "ind = tmp.index(max(tmp))\n",
        "thr_fixed = th[ind]\n",
        "print(\"Val result\")\n",
        "print(\"f1 :\",max(tmp), \"/ thr:\" ,thr_fixed)\n",
        "\n",
        "\n",
        "#test_predicton\n",
        "y_pred = now_model.predict_proba(X_test)[:,1]\n",
        "y_pred [y_pred > thr_fixed] = 1\n",
        "y_pred [y_pred <= thr_fixed] = 0\n",
        "\n",
        "cm = confusion_matrix(y_test, y_pred)\n",
        "\n",
        "plot_confusion_matrix(cm, ['0', '1'], )\n",
        "\n",
        "print('precision: {:2.3}'.format(precision_score(y_test, y_pred, average='binary')))\n",
        "print('recall: {:2.3}'.format(recall_score(y_test, y_pred, average='binary')))\n",
        "print('f1_score: {:2.3}'.format(f1_score(y_test, y_pred, average='binary')))"
      ],
      "execution_count": null,
      "outputs": [
        {
          "output_type": "display_data",
          "data": {
            "image/png": "[encoded data removed]",
            "text/plain": [
              "<Figure size 432x288 with 1 Axes>"
            ]
          },
          "metadata": {
            "tags": []
          }
        },
        {
          "output_type": "stream",
          "text": [
            "Val result\n",
            "f1 : 0.43643263757115747 / thr: 0.2\n"
          ],
          "name": "stdout"
        },
        {
          "output_type": "display_data",
          "data": {
            "image/png": "[encoded data removed]",
            "text/plain": [
              "<Figure size 432x288 with 2 Axes>"
            ]
          },
          "metadata": {
            "tags": []
          }
        },
        {
          "output_type": "stream",
          "text": [
            "precision: 0.369\n",
            "recall: 0.52\n",
            "f1_score: 0.431\n"
          ],
          "name": "stdout"
        }
      ]
    },
    {
      "cell_type": "code",
      "metadata": {
        "id": "TPOIXj_Syzar"
      },
      "source": [
        "# model_4 XGB\n",
        "#base prediction\n",
        "xgdmat_train = xgb.DMatrix(X_train, y_train)\n",
        "xgdmat_val = xgb.DMatrix(X_val, y_val)\n",
        "xgdmat_test = xgb.DMatrix(X_test, y_test)"
      ],
      "execution_count": null,
      "outputs": []
    },
    {
      "cell_type": "code",
      "metadata": {
        "id": "UOLEmQxDURx7"
      },
      "source": [
        "params = {}\n",
        "xgb_final = xgb.train(params, xgdmat_train)"
      ],
      "execution_count": null,
      "outputs": []
    },
    {
      "cell_type": "code",
      "metadata": {
        "id": "1WbJQtgUHqdD",
        "colab": {
          "base_uri": "https://localhost:8080/",
          "height": 679
        },
        "outputId": "cba28669-d9a1-4c40-fb28-a71f14662312"
      },
      "source": [
        "#val 에서 th값 탐색\n",
        "now_model = xgb_final\n",
        "\n",
        "#scores 값인지 잘 체크\n",
        "y_pred = now_model.predict(xgdmat_val)\n",
        "\n",
        "precision, recall, th = precision_recall_curve(y_val, y_pred)\n",
        "\n",
        "\n",
        "\n",
        "f1 = 2*precision*recall/(precision+recall)\n",
        "plt.plot(th, f1[1:], 'b', label='Precision-Recall curve')\n",
        "plt.title('th & f1')\n",
        "plt.xlabel('th')\n",
        "plt.ylabel('f1')\n",
        "plt.show()\n",
        "\n",
        "#fix threshold\n",
        "tmp = list(f1[1:])\n",
        "ind = tmp.index(max(tmp))\n",
        "thr_fixed = th[ind]\n",
        "print(\"Val result\")\n",
        "print(\"f1 :\",max(tmp), \"/ thr:\" ,thr_fixed)\n",
        "\n",
        "\n",
        "#test_predicton\n",
        "y_pred = now_model.predict(xgdmat_test)\n",
        "y_pred [y_pred > thr_fixed] = 1\n",
        "y_pred [y_pred <= thr_fixed] = 0\n",
        "\n",
        "cm = confusion_matrix(y_test, y_pred)\n",
        "\n",
        "plot_confusion_matrix(cm, ['0', '1'], )\n",
        "\n",
        "print('precision: {:2.3}'.format(precision_score(y_test, y_pred, average='binary')))\n",
        "print('recall: {:2.3}'.format(recall_score(y_test, y_pred, average='binary')))\n",
        "print('f1_score: {:2.3}'.format(f1_score(y_test, y_pred, average='binary')))"
      ],
      "execution_count": null,
      "outputs": [
        {
          "output_type": "display_data",
          "data": {
            "image/png": "[encoded data removed]",
            "text/plain": [
              "<Figure size 432x288 with 1 Axes>"
            ]
          },
          "metadata": {
            "tags": []
          }
        },
        {
          "output_type": "stream",
          "text": [
            "Val result\n",
            "f1 : 0.4345991561181435 / thr: 0.22908574\n"
          ],
          "name": "stdout"
        },
        {
          "output_type": "display_data",
          "data": {
            "image/png": "[encoded data removed]",
            "text/plain": [
              "<Figure size 432x288 with 2 Axes>"
            ]
          },
          "metadata": {
            "tags": []
          }
        },
        {
          "output_type": "stream",
          "text": [
            "precision: 0.376\n",
            "recall: 0.466\n",
            "f1_score: 0.416\n"
          ],
          "name": "stdout"
        }
      ]
    },
    {
      "cell_type": "markdown",
      "metadata": {
        "id": "tUiFDB2pfun2"
      },
      "source": [
        "### Balanced RF"
      ]
    },
    {
      "cell_type": "code",
      "metadata": {
        "id": "53Ex3B-xy18j"
      },
      "source": [
        "# model_5 Balanced RF\n",
        "from imblearn.ensemble import BalancedRandomForestClassifier"
      ],
      "execution_count": null,
      "outputs": []
    },
    {
      "cell_type": "code",
      "metadata": {
        "id": "bLEO0Z5H7XbH",
        "colab": {
          "base_uri": "https://localhost:8080/",
          "height": 179
        },
        "outputId": "0f899924-95f5-42f2-860a-4fcb762fde72"
      },
      "source": [
        "#best params\n",
        "clf = BalancedRandomForestClassifier(n_jobs=-1, \n",
        "                                     random_state = 42)\n",
        "                                     #,criterion = 'entropy')\n",
        "\n",
        "clf.fit(X_train, y_train)"
      ],
      "execution_count": null,
      "outputs": [
        {
          "output_type": "execute_result",
          "data": {
            "text/plain": [
              "BalancedRandomForestClassifier(bootstrap=True, class_weight=None,\n",
              "                               criterion='gini', max_depth=None,\n",
              "                               max_features='auto', max_leaf_nodes=None,\n",
              "                               min_impurity_decrease=0.0, min_samples_leaf=2,\n",
              "                               min_samples_split=2,\n",
              "                               min_weight_fraction_leaf=0.0, n_estimators=100,\n",
              "                               n_jobs=-1, oob_score=False, random_state=42,\n",
              "                               replacement=False, sampling_strategy='auto',\n",
              "                               verbose=0, warm_start=False)"
            ]
          },
          "metadata": {
            "tags": []
          },
          "execution_count": 101
        }
      ]
    },
    {
      "cell_type": "code",
      "metadata": {
        "id": "_A0ZC_1qgzTa",
        "colab": {
          "base_uri": "https://localhost:8080/",
          "height": 679
        },
        "outputId": "9a2f0b91-e3fa-4a43-cb35-f1cdd13fd241"
      },
      "source": [
        "#val 에서 th값 탐색\n",
        "now_model = clf\n",
        "\n",
        "#scores 값인지 잘 체크\n",
        "y_pred = now_model.predict_proba(X_val)[:,1]\n",
        "\n",
        "precision, recall, th = precision_recall_curve(y_val, y_pred)\n",
        "\n",
        "\n",
        "\n",
        "f1 = 2*precision*recall/(precision+recall)\n",
        "plt.plot(th, f1[1:], 'b', label='Precision-Recall curve')\n",
        "plt.title('th & f1')\n",
        "plt.xlabel('th')\n",
        "plt.ylabel('f1')\n",
        "plt.show()\n",
        "\n",
        "#fix threshold\n",
        "tmp = list(f1[1:])\n",
        "ind = tmp.index(max(tmp))\n",
        "thr_fixed = th[ind]\n",
        "print(\"Val result\")\n",
        "print(\"f1 :\",max(tmp), \"/ thr:\" ,thr_fixed)\n",
        "\n",
        "\n",
        "#test_predicton\n",
        "y_pred = now_model.predict_proba(X_test)[:,1]\n",
        "y_pred [y_pred > thr_fixed] = 1\n",
        "y_pred [y_pred <= thr_fixed] = 0\n",
        "\n",
        "cm = confusion_matrix(y_test, y_pred)\n",
        "\n",
        "plot_confusion_matrix(cm, ['0', '1'], )\n",
        "\n",
        "print('precision: {:2.3}'.format(precision_score(y_test, y_pred, average='binary')))\n",
        "print('recall: {:2.3}'.format(recall_score(y_test, y_pred, average='binary')))\n",
        "print('f1_score: {:2.3}'.format(f1_score(y_test, y_pred, average='binary')))"
      ],
      "execution_count": null,
      "outputs": [
        {
          "output_type": "display_data",
          "data": {
            "image/png": "[encoded data removed]",
            "text/plain": [
              "<Figure size 432x288 with 1 Axes>"
            ]
          },
          "metadata": {
            "tags": []
          }
        },
        {
          "output_type": "stream",
          "text": [
            "Val result\n",
            "f1 : 0.423963133640553 / thr: 0.7576666666666668\n"
          ],
          "name": "stdout"
        },
        {
          "output_type": "display_data",
          "data": {
            "image/png": "[encoded data removed]",
            "text/plain": [
              "<Figure size 432x288 with 2 Axes>"
            ]
          },
          "metadata": {
            "tags": []
          }
        },
        {
          "output_type": "stream",
          "text": [
            "precision: 0.345\n",
            "recall: 0.497\n",
            "f1_score: 0.407\n"
          ],
          "name": "stdout"
        }
      ]
    },
    {
      "cell_type": "markdown",
      "metadata": {
        "id": "burnUOTNfyKb"
      },
      "source": [
        "### IMB- XGB"
      ]
    },
    {
      "cell_type": "code",
      "metadata": {
        "id": "jAZW2ONmy5DD",
        "colab": {
          "base_uri": "https://localhost:8080/",
          "height": 179
        },
        "outputId": "550314e4-1d71-4f6d-c034-dbca958dd023"
      },
      "source": [
        "# model_6 IMB- XGB\n",
        "!pip install imbalance-xgboost"
      ],
      "execution_count": null,
      "outputs": [
        {
          "output_type": "stream",
          "text": [
            "Collecting imbalance-xgboost\n",
            "  Downloading https://files.pythonhosted.org/packages/92/5e/f3817e9d7471e5d3031ca2711fae821908458d25fa320db93f26af01395a/imbalance_xgboost-0.7.4-py3-none-any.whl\n",
            "Requirement already satisfied: scikit-learn>=0.19 in /usr/local/lib/python3.6/dist-packages (from imbalance-xgboost) (0.21.3)\n",
            "Requirement already satisfied: xgboost>=0.4a30 in /usr/local/lib/python3.6/dist-packages (from imbalance-xgboost) (0.90)\n",
            "Requirement already satisfied: numpy>=1.11 in /usr/local/lib/python3.6/dist-packages (from imbalance-xgboost) (1.16.5)\n",
            "Requirement already satisfied: scipy>=0.17.0 in /usr/local/lib/python3.6/dist-packages (from scikit-learn>=0.19->imbalance-xgboost) (1.3.1)\n",
            "Requirement already satisfied: joblib>=0.11 in /usr/local/lib/python3.6/dist-packages (from scikit-learn>=0.19->imbalance-xgboost) (0.14.0)\n",
            "Installing collected packages: imbalance-xgboost\n",
            "Successfully installed imbalance-xgboost-0.7.4\n"
          ],
          "name": "stdout"
        }
      ]
    },
    {
      "cell_type": "code",
      "metadata": {
        "id": "CwYDpTrDOjKT",
        "colab": {
          "base_uri": "https://localhost:8080/",
          "height": 89
        },
        "outputId": "102f1cd8-1157-4507-de34-73b846a669c4"
      },
      "source": [
        "from imxgboost.imbalance_xgb import imbalance_xgboost as imb_xgb\n",
        "from sklearn.model_selection import GridSearchCV\n",
        "\n",
        "#search params\n",
        "xgboster_focal = imb_xgb(special_objective='focal')\n",
        "xgboster_weight = imb_xgb(special_objective='weighted')\n",
        "CV_focal_booster = GridSearchCV(xgboster_focal, {\"focal_gamma\":[1.0,1.5,2.0,2.5,3.0]})\n",
        "\n",
        "CV_weight_booster = GridSearchCV(xgboster_weight, {\"imbalance_alpha\":[1.5,2.0,2.5,3.0,4.0]})\n",
        "\n",
        "CV_focal_booster.fit(X_train, y_train)\n",
        "CV_weight_booster.fit(X_train, y_train)\n",
        "opt_focal_booster = CV_focal_booster.best_estimator_\n",
        "opt_weight_booster = CV_weight_booster.best_estimator_"
      ],
      "execution_count": null,
      "outputs": [
        {
          "output_type": "stream",
          "text": [
            "/usr/local/lib/python3.6/dist-packages/sklearn/model_selection/_split.py:1978: FutureWarning: The default value of cv will change from 3 to 5 in version 0.22. Specify it explicitly to silence this warning.\n",
            "  warnings.warn(CV_WARNING, FutureWarning)\n",
            "/usr/local/lib/python3.6/dist-packages/sklearn/model_selection/_split.py:1978: FutureWarning: The default value of cv will change from 3 to 5 in version 0.22. Specify it explicitly to silence this warning.\n",
            "  warnings.warn(CV_WARNING, FutureWarning)\n"
          ],
          "name": "stderr"
        }
      ]
    },
    {
      "cell_type": "code",
      "metadata": {
        "id": "BcKniCSP0wyy",
        "colab": {
          "base_uri": "https://localhost:8080/",
          "height": 679
        },
        "outputId": "ae91eb78-127f-428b-9e63-99a87a474f39"
      },
      "source": [
        "#Focal model\n",
        "\n",
        "#val 에서 th값 탐색\n",
        "now_model = opt_focal_booster\n",
        "\n",
        "#scores 값인지 잘 체크\n",
        "y_pred = now_model.predict_sigmoid(X_val, y=None)\n",
        "\n",
        "precision, recall, th = precision_recall_curve(y_val, y_pred)\n",
        "\n",
        "\n",
        "\n",
        "f1 = 2*precision*recall/(precision+recall)\n",
        "plt.plot(th, f1[1:], 'b', label='Precision-Recall curve')\n",
        "plt.title('th & f1')\n",
        "plt.xlabel('th')\n",
        "plt.ylabel('f1')\n",
        "plt.show()\n",
        "\n",
        "#fix threshold\n",
        "tmp = list(f1[1:])\n",
        "ind = tmp.index(max(tmp))\n",
        "thr_fixed = th[ind]\n",
        "print(\"Val result\")\n",
        "print(\"f1 :\",max(tmp), \"/ thr:\" ,thr_fixed)\n",
        "\n",
        "\n",
        "#test_predicton\n",
        "y_pred = now_model.predict_sigmoid(X_test, y=None)\n",
        "y_pred [y_pred > thr_fixed] = 1\n",
        "y_pred [y_pred <= thr_fixed] = 0\n",
        "\n",
        "cm = confusion_matrix(y_test, y_pred)\n",
        "\n",
        "plot_confusion_matrix(cm, ['0', '1'], )\n",
        "\n",
        "print('precision: {:2.3}'.format(precision_score(y_test, y_pred, average='binary')))\n",
        "print('recall: {:2.3}'.format(recall_score(y_test, y_pred, average='binary')))\n",
        "print('f1_score: {:2.3}'.format(f1_score(y_test, y_pred, average='binary')))"
      ],
      "execution_count": null,
      "outputs": [
        {
          "output_type": "display_data",
          "data": {
            "image/png": "[encoded data removed]",
            "text/plain": [
              "<Figure size 432x288 with 1 Axes>"
            ]
          },
          "metadata": {
            "tags": []
          }
        },
        {
          "output_type": "stream",
          "text": [
            "Val result\n",
            "f1 : 0.4156171284634761 / thr: 0.40241283\n"
          ],
          "name": "stdout"
        },
        {
          "output_type": "display_data",
          "data": {
            "image/png": "[encoded data removed]",
            "text/plain": [
              "<Figure size 432x288 with 2 Axes>"
            ]
          },
          "metadata": {
            "tags": []
          }
        },
        {
          "output_type": "stream",
          "text": [
            "precision: 0.419\n",
            "recall: 0.378\n",
            "f1_score: 0.397\n"
          ],
          "name": "stdout"
        }
      ]
    },
    {
      "cell_type": "code",
      "metadata": {
        "id": "ESEBtjvqeoGA",
        "colab": {
          "base_uri": "https://localhost:8080/",
          "height": 679
        },
        "outputId": "da905bdd-85d5-4ffa-8278-807dbcc2f405"
      },
      "source": [
        "#weight model\n",
        "\n",
        "#val 에서 th값 탐색\n",
        "now_model = opt_weight_booster\n",
        "\n",
        "#scores 값인지 잘 체크\n",
        "y_pred = now_model.predict_sigmoid(X_val, y=None)\n",
        "\n",
        "precision, recall, th = precision_recall_curve(y_val, y_pred)\n",
        "\n",
        "\n",
        "\n",
        "f1 = 2*precision*recall/(precision+recall)\n",
        "plt.plot(th, f1[1:], 'b', label='Precision-Recall curve')\n",
        "plt.title('th & f1')\n",
        "plt.xlabel('th')\n",
        "plt.ylabel('f1')\n",
        "plt.show()\n",
        "\n",
        "#fix threshold\n",
        "tmp = list(f1[1:])\n",
        "ind = tmp.index(max(tmp))\n",
        "thr_fixed = th[ind]\n",
        "print(\"Val result\")\n",
        "print(\"f1 :\",max(tmp), \"/ thr:\" ,thr_fixed)\n",
        "\n",
        "\n",
        "#test_predicton\n",
        "y_pred = now_model.predict_sigmoid(X_test, y=None)\n",
        "y_pred [y_pred > thr_fixed] = 1\n",
        "y_pred [y_pred <= thr_fixed] = 0\n",
        "\n",
        "cm = confusion_matrix(y_test, y_pred)\n",
        "\n",
        "plot_confusion_matrix(cm, ['0', '1'], )\n",
        "\n",
        "print('precision: {:2.3}'.format(precision_score(y_test, y_pred, average='binary')))\n",
        "print('recall: {:2.3}'.format(recall_score(y_test, y_pred, average='binary')))\n",
        "print('f1_score: {:2.3}'.format(f1_score(y_test, y_pred, average='binary')))"
      ],
      "execution_count": null,
      "outputs": [
        {
          "output_type": "display_data",
          "data": {
            "image/png": "[encoded data removed]",
            "text/plain": [
              "<Figure size 432x288 with 1 Axes>"
            ]
          },
          "metadata": {
            "tags": []
          }
        },
        {
          "output_type": "stream",
          "text": [
            "Val result\n",
            "f1 : 0.41700404858299595 / thr: 0.24520724\n"
          ],
          "name": "stdout"
        },
        {
          "output_type": "display_data",
          "data": {
            "image/png": "[encoded data removed]",
            "text/plain": [
              "<Figure size 432x288 with 2 Axes>"
            ]
          },
          "metadata": {
            "tags": []
          }
        },
        {
          "output_type": "stream",
          "text": [
            "precision: 0.379\n",
            "recall: 0.492\n",
            "f1_score: 0.428\n"
          ],
          "name": "stdout"
        }
      ]
    },
    {
      "cell_type": "code",
      "metadata": {
        "id": "801dJTwY-D1t"
      },
      "source": [
        ""
      ],
      "execution_count": null,
      "outputs": []
    }
  ]
}